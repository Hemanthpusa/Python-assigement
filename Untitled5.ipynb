{
  "nbformat": 4,
  "nbformat_minor": 0,
  "metadata": {
    "colab": {
      "name": "Untitled5.ipynb",
      "provenance": [],
      "toc_visible": true,
      "authorship_tag": "ABX9TyM1wYHlTuwl38f5CnfubN12",
      "include_colab_link": true
    },
    "kernelspec": {
      "name": "python3",
      "display_name": "Python 3"
    },
    "language_info": {
      "name": "python"
    }
  },
  "cells": [
    {
      "cell_type": "markdown",
      "metadata": {
        "id": "view-in-github",
        "colab_type": "text"
      },
      "source": [
        "<a href=\"https://colab.research.google.com/github/Hemanthpusa/Python-assigement/blob/main/Untitled5.ipynb\" target=\"_parent\"><img src=\"https://colab.research.google.com/assets/colab-badge.svg\" alt=\"Open In Colab\"/></a>"
      ]
    },
    {
      "cell_type": "markdown",
      "source": [
        "1.program"
      ],
      "metadata": {
        "id": "466l5eM4RiJo"
      }
    },
    {
      "cell_type": "code",
      "execution_count": 7,
      "metadata": {
        "colab": {
          "base_uri": "https://localhost:8080/"
        },
        "id": "cv2pO69KPunv",
        "outputId": "cbbc32e5-010a-43ce-d9cb-2a09e93ce301"
      },
      "outputs": [
        {
          "output_type": "stream",
          "name": "stdout",
          "text": [
            "20\n"
          ]
        }
      ],
      "source": [
        "u=10\n",
        "a=5\n",
        "t=2\n",
        "s=3\n",
        "v=u+a*t\n",
        "print(v)\n"
      ]
    },
    {
      "cell_type": "code",
      "source": [
        "s=u*t+0.5*a*t*t\n",
        "print(s)"
      ],
      "metadata": {
        "colab": {
          "base_uri": "https://localhost:8080/"
        },
        "id": "BUWLDkROQ91G",
        "outputId": "b5427434-7c3b-45a6-cd9e-95c0cd8d2851"
      },
      "execution_count": 11,
      "outputs": [
        {
          "output_type": "stream",
          "name": "stdout",
          "text": [
            "30.0\n"
          ]
        }
      ]
    },
    {
      "cell_type": "code",
      "source": [
        "v=u*u+2*a*s\n",
        "print(v)"
      ],
      "metadata": {
        "colab": {
          "base_uri": "https://localhost:8080/"
        },
        "id": "G5di85LFQToL",
        "outputId": "fc49e38c-cd58-45b6-e622-c8f8f2836efd"
      },
      "execution_count": 9,
      "outputs": [
        {
          "output_type": "stream",
          "name": "stdout",
          "text": [
            "130\n"
          ]
        }
      ]
    },
    {
      "cell_type": "markdown",
      "source": [
        "2.Even numbers"
      ],
      "metadata": {
        "id": "BGf_pNBkRgUC"
      }
    },
    {
      "cell_type": "code",
      "source": [
        "for x in range(100):\n",
        "  if(x%2==0):\n",
        "    print(x)"
      ],
      "metadata": {
        "colab": {
          "base_uri": "https://localhost:8080/"
        },
        "id": "kr46gZaQRroX",
        "outputId": "0438d086-3f38-4801-dee2-c3a30b28b589"
      },
      "execution_count": 25,
      "outputs": [
        {
          "output_type": "stream",
          "name": "stdout",
          "text": [
            "0\n",
            "2\n",
            "4\n",
            "6\n",
            "8\n",
            "10\n",
            "12\n",
            "14\n",
            "16\n",
            "18\n",
            "20\n",
            "22\n",
            "24\n",
            "26\n",
            "28\n",
            "30\n",
            "32\n",
            "34\n",
            "36\n",
            "38\n",
            "40\n",
            "42\n",
            "44\n",
            "46\n",
            "48\n",
            "50\n",
            "52\n",
            "54\n",
            "56\n",
            "58\n",
            "60\n",
            "62\n",
            "64\n",
            "66\n",
            "68\n",
            "70\n",
            "72\n",
            "74\n",
            "76\n",
            "78\n",
            "80\n",
            "82\n",
            "84\n",
            "86\n",
            "88\n",
            "90\n",
            "92\n",
            "94\n",
            "96\n",
            "98\n"
          ]
        }
      ]
    },
    {
      "cell_type": "markdown",
      "source": [
        "3.prime number"
      ],
      "metadata": {
        "id": "mksTY4EuWlWP"
      }
    },
    {
      "cell_type": "code",
      "source": [
        "for x in range(100):\n",
        "  if(x%2==1):\n",
        "   print(x)"
      ],
      "metadata": {
        "colab": {
          "base_uri": "https://localhost:8080/"
        },
        "id": "YAU-HgM1Wpeu",
        "outputId": "67ad8c60-86f0-4ec9-e486-3074d2c53f8d"
      },
      "execution_count": 24,
      "outputs": [
        {
          "output_type": "stream",
          "name": "stdout",
          "text": [
            "1\n",
            "3\n",
            "5\n",
            "7\n",
            "9\n",
            "11\n",
            "13\n",
            "15\n",
            "17\n",
            "19\n",
            "21\n",
            "23\n",
            "25\n",
            "27\n",
            "29\n",
            "31\n",
            "33\n",
            "35\n",
            "37\n",
            "39\n",
            "41\n",
            "43\n",
            "45\n",
            "47\n",
            "49\n",
            "51\n",
            "53\n",
            "55\n",
            "57\n",
            "59\n",
            "61\n",
            "63\n",
            "65\n",
            "67\n",
            "69\n",
            "71\n",
            "73\n",
            "75\n",
            "77\n",
            "79\n",
            "81\n",
            "83\n",
            "85\n",
            "87\n",
            "89\n",
            "91\n",
            "93\n",
            "95\n",
            "97\n",
            "99\n"
          ]
        }
      ]
    },
    {
      "cell_type": "markdown",
      "source": [
        "4.take a no. as input and print its prime or not"
      ],
      "metadata": {
        "id": "X60aCGi-X73x"
      }
    },
    {
      "cell_type": "code",
      "source": [
        "a=5\n",
        "if(a%2==1):\n",
        "  print(\"a is prime number\")\n",
        "else:\n",
        "    print(\"a is not a prime number\")"
      ],
      "metadata": {
        "id": "a_6t7a38YOuA",
        "outputId": "743b0744-7d18-4738-b558-e27a0ef062ec",
        "colab": {
          "base_uri": "https://localhost:8080/"
        }
      },
      "execution_count": 32,
      "outputs": [
        {
          "output_type": "stream",
          "name": "stdout",
          "text": [
            "a is prime number\n"
          ]
        }
      ]
    },
    {
      "cell_type": "markdown",
      "source": [
        "5.mulitiples of 3 and 5\n"
      ],
      "metadata": {
        "id": "YEA1pnuTa7YC"
      }
    },
    {
      "cell_type": "code",
      "source": [
        "for x in range(200):\n",
        " if(x%3==0):\n",
        "   print(x)"
      ],
      "metadata": {
        "id": "3JMOvg-4bDCT",
        "outputId": "8b5fe5cd-1b65-4e17-a04a-e1cd01d593f0",
        "colab": {
          "base_uri": "https://localhost:8080/"
        }
      },
      "execution_count": 46,
      "outputs": [
        {
          "output_type": "stream",
          "name": "stdout",
          "text": [
            "0\n",
            "3\n",
            "6\n",
            "9\n",
            "12\n",
            "15\n",
            "18\n",
            "21\n",
            "24\n",
            "27\n",
            "30\n",
            "33\n",
            "36\n",
            "39\n",
            "42\n",
            "45\n",
            "48\n",
            "51\n",
            "54\n",
            "57\n",
            "60\n",
            "63\n",
            "66\n",
            "69\n",
            "72\n",
            "75\n",
            "78\n",
            "81\n",
            "84\n",
            "87\n",
            "90\n",
            "93\n",
            "96\n",
            "99\n",
            "102\n",
            "105\n",
            "108\n",
            "111\n",
            "114\n",
            "117\n",
            "120\n",
            "123\n",
            "126\n",
            "129\n",
            "132\n",
            "135\n",
            "138\n",
            "141\n",
            "144\n",
            "147\n",
            "150\n",
            "153\n",
            "156\n",
            "159\n",
            "162\n",
            "165\n",
            "168\n",
            "171\n",
            "174\n",
            "177\n",
            "180\n",
            "183\n",
            "186\n",
            "189\n",
            "192\n",
            "195\n",
            "198\n"
          ]
        }
      ]
    },
    {
      "cell_type": "code",
      "source": [
        "mathematics=95\n",
        "chemistry=90\n",
        "physics=80\n",
        "avg=mathematics+chemistry+physics/3\n",
        "print(avg)"
      ],
      "metadata": {
        "id": "ArDFH2c5eYR2",
        "outputId": "56ec556f-0663-4a23-d159-b5a7a2e43298",
        "colab": {
          "base_uri": "https://localhost:8080/"
        }
      },
      "execution_count": 47,
      "outputs": [
        {
          "output_type": "stream",
          "name": "stdout",
          "text": [
            "211.66666666666666\n"
          ]
        }
      ]
    },
    {
      "cell_type": "code",
      "source": [
        "p=avg/300*100\n",
        "print(p)"
      ],
      "metadata": {
        "id": "2pkA7XDzfD5a",
        "outputId": "df425ca1-103e-40f8-a33f-9b2b7de5ff87",
        "colab": {
          "base_uri": "https://localhost:8080/"
        }
      },
      "execution_count": 51,
      "outputs": [
        {
          "output_type": "stream",
          "name": "stdout",
          "text": [
            "70.55555555555554\n"
          ]
        }
      ]
    },
    {
      "cell_type": "code",
      "source": [
        "if(p>90):\n",
        "  print(excellent)\n",
        "  elif(((p>80)||(p<90))&(mathematics>95)):\n",
        "    print(excellent)\n",
        "    else:\n",
        "      print(fail)"
      ],
      "metadata": {
        "id": "dteyE_mmfXkn",
        "outputId": "f8601981-fbe0-4b2a-fade-3f79c76087d0",
        "colab": {
          "base_uri": "https://localhost:8080/",
          "height": 130
        }
      },
      "execution_count": 61,
      "outputs": [
        {
          "output_type": "error",
          "ename": "SyntaxError",
          "evalue": "ignored",
          "traceback": [
            "\u001b[0;36m  File \u001b[0;32m\"<ipython-input-61-debe38a066fc>\"\u001b[0;36m, line \u001b[0;32m3\u001b[0m\n\u001b[0;31m    elif(((p>80)||(p<90))&(mathematics>95)):\u001b[0m\n\u001b[0m       ^\u001b[0m\n\u001b[0;31mSyntaxError\u001b[0m\u001b[0;31m:\u001b[0m invalid syntax\n"
          ]
        }
      ]
    }
  ]
}